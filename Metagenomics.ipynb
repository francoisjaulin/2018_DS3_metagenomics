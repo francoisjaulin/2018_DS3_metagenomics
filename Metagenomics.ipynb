{
 "cells": [
  {
   "cell_type": "markdown",
   "metadata": {},
   "source": [
    "# Metagenomics"
   ]
  },
  {
   "cell_type": "markdown",
   "metadata": {},
   "source": [
    "### Prerequisites\n",
    "\n",
    "- BioPython\n",
    "- keras\n",
    "- scikit-learn"
   ]
  },
  {
   "cell_type": "code",
   "execution_count": 3,
   "metadata": {
    "collapsed": true
   },
   "outputs": [],
   "source": [
    "import re \n",
    "import numpy as np"
   ]
  },
  {
   "cell_type": "markdown",
   "metadata": {},
   "source": [
    "## 0. Introduction\n",
    "\n",
    "Metagenomics is the study of an environment from the genomic material it contains.\n",
    "\n",
    "An important problem in metagenomics is **binning**, assigning fragments to taxonomic clades. Current sequencing technologies output millions of short DNA fragments (reads) in random order. \n",
    "\n",
    "There are 2 different types of approaches to this problem:\n",
    " - **aligment**-based approaches try to align the reads to reference genomes using string methods\n",
    " - **compositional** approaches view binning as a classification problem\n",
    " \n",
    "In this notebook we will concentrate on the second type, and use machine learning to classify fragments of microbial DNA"
   ]
  },
  {
   "cell_type": "markdown",
   "metadata": {},
   "source": [
    "## 1. Data\n",
    "\n",
    "The data is composed of a training set and a validation set.\n",
    "- The training set is 10 full bacterial genomes and their taxonomic ids (the classification label). Each genome belongs to a different species, so there are 10 labels in all.\n",
    "- The validation set is composed of 10000 fragments of length 100bp, drawn from the genomes in the training set.\n",
    "\n",
    "The DNA sequences are in the standard FASTA format. We use the BioPython package to parse these fasta files. It can be installed with `pip` or `conda`:\n",
    "\n",
    "```python\n",
    "pip install biopython\n",
    "```\n",
    "or \n",
    "```\n",
    "conda install biopython\n",
    "```\n",
    "in your terminal"
   ]
  },
  {
   "cell_type": "code",
   "execution_count": 4,
   "metadata": {
    "collapsed": true
   },
   "outputs": [],
   "source": [
    "# train\n",
    "train_path = 'data/train'\n",
    "train_fasta_path = '{}/train.fasta'.format(train_path)\n",
    "train_labels_path = '{}/train.taxid'.format(train_path)\n",
    "# test\n",
    "test_path = 'data/test'\n",
    "test_fasta_path = '{}/test.fasta'.format(test_path)\n",
    "test_labels_path = '{}/test.taxid'.format(test_path)"
   ]
  },
  {
   "cell_type": "code",
   "execution_count": 5,
   "metadata": {},
   "outputs": [],
   "source": [
    "from Bio import SeqIO\n",
    "\n",
    "# Link or word on biopython\n",
    "def extract_sequences(fasta_path, acgt_only=True):\n",
    "    '''\n",
    "    Reads a fasta file and returns the list of sequences in string format\n",
    "    '''\n",
    "    with open(fasta_path) as input_fasta:\n",
    "        fasta_sequences = SeqIO.parse(input_fasta, 'fasta')\n",
    "        if acgt_only:\n",
    "            return [re.sub('[^ACGT]', '', str(fasta.seq)) for fasta in fasta_sequences]\n",
    "        return [str(fasta.seq) for fasta in fasta_sequences]\n",
    "\n",
    "X_train_full = extract_sequences(train_fasta_path)\n",
    "X_test_frag = extract_sequences(test_fasta_path)\n",
    "\n",
    "y_train_full = np.loadtxt(train_labels_path, dtype=str)\n",
    "y_test = np.loadtxt(test_labels_path, dtype=str)"
   ]
  },
  {
   "cell_type": "code",
   "execution_count": 6,
   "metadata": {},
   "outputs": [
    {
     "name": "stdout",
     "output_type": "stream",
     "text": [
      "Train sequences\n",
      "---------------\n",
      "Label: 234267\n",
      "Length: 9965640\n",
      "Sequence beginning: CAAATCTACCTGAACATCAG...\n",
      "---\n",
      "Label: 240015\n",
      "Length: 4127356\n",
      "Sequence beginning: GTCCCATGGAATCAATAGCT...\n",
      "---\n",
      "Label: 755732\n",
      "Length: 4633577\n",
      "Sequence beginning: TATTAACATATTATTTACAA...\n",
      "---\n",
      "Label: 1193806\n",
      "Length: 1452335\n",
      "Sequence beginning: ACAACTTTATTTTAATTTAT...\n",
      "---\n",
      "Label: 755178\n",
      "Length: 4114099\n",
      "Sequence beginning: ATTAATAAGAGTTTAAACAA...\n",
      "---\n",
      "Label: 1100841\n",
      "Length: 3957364\n",
      "Sequence beginning: CCGACTCAGTGTCGGACTTT...\n",
      "---\n",
      "Label: 1274814\n",
      "Length: 4798433\n",
      "Sequence beginning: ATTGGCGCAGAAAAAAATGC...\n",
      "---\n",
      "Label: 229193\n",
      "Length: 4595065\n",
      "Sequence beginning: TCGCGCGATCTTTGAGCTAA...\n",
      "---\n",
      "Label: 395491\n",
      "Length: 4767043\n",
      "Sequence beginning: TGATCGGGCGGCCGTTTTAG...\n",
      "---\n",
      "Label: 481448\n",
      "Length: 2287145\n",
      "Sequence beginning: AAATATTTATTTTTTAAGAT...\n",
      "---\n"
     ]
    }
   ],
   "source": [
    "print('Train sequences')\n",
    "print('---------------')\n",
    "for seq, h in zip(X_train_full, y_train_full):\n",
    "    print('Label: {}'.format(h))\n",
    "    print('Length: {}'.format(len(seq)))\n",
    "    print('Sequence beginning: {}...'.format(seq[:20]))\n",
    "    print('---')"
   ]
  },
  {
   "cell_type": "markdown",
   "metadata": {},
   "source": [
    "### Extracting fragments\n",
    "\n",
    "In order to train the classification model, we feed it training samples with their corresponding labels. To generate these training samples, we draw random fragments from the full training genomes.\n",
    "\n",
    "The **coverage** is the average number of times each nucleotide (letter 'A', 'C', 'G', 'T') is covered. For fragments of length 100, and a 1M-long genome, a coverage of 1 corresponds to $1M / 100 = 10000$ fragments. "
   ]
  },
  {
   "cell_type": "code",
   "execution_count": 7,
   "metadata": {
    "collapsed": true
   },
   "outputs": [],
   "source": [
    "def fragment_generator(sequence, length=100):\n",
    "    '''\n",
    "    Generates random substrings of length `length` from string `sequence`\n",
    "    '''\n",
    "    full_length = len(sequence)\n",
    "    while True:\n",
    "        i = np.random.randint(0, full_length-length)\n",
    "        yield sequence[i:i+length]\n",
    "\n",
    "    \n",
    "def draw_fragments(sequence, coverage=1, length=100):\n",
    "    '''\n",
    "    Draws random fragments from `sequence`, such that each character is covered\n",
    "    `coverage` times on average\n",
    "    '''\n",
    "    n_frags = int(len(sequence) * coverage) // length\n",
    "    gen = fragment_generator(sequence, length=length)\n",
    "    return [gen.next() for _ in range(n_frags)]\n",
    "    \n",
    "\n",
    "def draw_fragments_labelled(sequences, labels, coverage=1, length=100, shuffle=True):\n",
    "    '''\n",
    "    Draws random fragments from `sequences`, such that each character is covered\n",
    "    `coverage` times on average\n",
    "    '''\n",
    "    fragments = []\n",
    "    frag_labels = []\n",
    "    for seq, label in zip(sequences, labels):\n",
    "        frags = draw_fragments(seq, coverage=coverage, length=length)\n",
    "        fragments += frags\n",
    "        frag_labels += [label]*len(frags)\n",
    "    fragments, frag_labels = np.array(fragments), np.array(frag_labels)\n",
    "    if shuffle:\n",
    "        p = np.random.permutation(len(fragments))\n",
    "        return fragments[p], frag_labels[p]\n",
    "    return fragments, frag_labels"
   ]
  },
  {
   "cell_type": "code",
   "execution_count": 64,
   "metadata": {},
   "outputs": [],
   "source": [
    "X_train_frag, y_train_frag = draw_fragments_labelled(X_train_full, y_train_full, coverage=1)"
   ]
  },
  {
   "cell_type": "code",
   "execution_count": 66,
   "metadata": {},
   "outputs": [
    {
     "name": "stdout",
     "output_type": "stream",
     "text": [
      "Sample reads\n",
      "Label 229193, Read GCACCGGTGTTACCCGAAGATACGCAGTGCCTACCCATTAATGGCGTTTATATTCAGGGGATCACCTTATTAACAGAGGATGATTTAAGTGAATTAAGTG\n",
      "Label 1100841, Read TTACGGTTACGGGCAATGATAATCGGCTGACGACCAATATAAGTCGTGTAGTAGTCATTATTATTTGGAATTTGGCTTTCGTGTGCCAAGTAAACCCAGT\n",
      "Label 1193806, Read TGTTACGGGGGTTATTCTCGTTACAGAAACTCTTCAGCCTCGGTATCGACGTCAATTTTCAGGCATACGACGCGGGTGTTGACGCCTTGAATCCGCTTCT\n"
     ]
    }
   ],
   "source": [
    "print('Sample reads')\n",
    "for X, y in zip(X_train_frag[:3], y_train_frag[:3]):\n",
    "    print('Label {}, Read {}'.format(y, X))"
   ]
  },
  {
   "cell_type": "markdown",
   "metadata": {},
   "source": [
    "## 2. Linear models\n",
    "\n",
    "### 2. a) k-mer representation\n",
    "A standard method in machine learning approaches to metagenomics is to represent a DNA sequence as the sum of its short subsequences (**k-mers**). \n",
    "\n",
    "**Example:** The sequence `'AATACGGAA'` can be represented by the list of its 3-mers `['AAT', 'ATA', 'TAC', 'ACG', 'CGG', 'GGA', 'GAA']`\n",
    "\n",
    "The k-mer representation is then one hot encoded, so that a DNA sequence becomes a vector in $\\mathbb{R}^K$ where $K$ is the vocabulary size. For short k-mers (small values of $k$), $K = 4^k$. \n",
    "\n",
    "This is similar to the **Bag-of-Words** representation in NLP."
   ]
  },
  {
   "cell_type": "markdown",
   "metadata": {},
   "source": [
    "#### Implementation\n",
    "The `CountVectorizer` class from scikit-learn can be used to implement this."
   ]
  },
  {
   "cell_type": "code",
   "execution_count": 67,
   "metadata": {},
   "outputs": [
    {
     "name": "stdout",
     "output_type": "stream",
     "text": [
      "CPU times: user 28.7 s, sys: 1.7 s, total: 30.4 s\n",
      "Wall time: 30.1 s\n"
     ]
    },
    {
     "data": {
      "text/plain": [
       "CountVectorizer(analyzer='char', binary=False, decode_error=u'strict',\n",
       "        dtype=<type 'numpy.int8'>, encoding=u'utf-8', input=u'content',\n",
       "        lowercase=True, max_df=1.0, max_features=None, min_df=1,\n",
       "        ngram_range=(4, 4), preprocessor=None, stop_words=None,\n",
       "        strip_accents=None, token_pattern=u'(?u)\\\\b\\\\w\\\\w+\\\\b',\n",
       "        tokenizer=None, vocabulary=None)"
      ]
     },
     "execution_count": 67,
     "metadata": {},
     "output_type": "execute_result"
    }
   ],
   "source": [
    "from sklearn.feature_extraction.text import CountVectorizer\n",
    "\n",
    "def KmerVectorizer(k=4):\n",
    "    '''\n",
    "    Returns a Vectorizer that transforms a sequence into a vector of the counts of its k-mers\n",
    "    '''\n",
    "    return CountVectorizer(analyzer='char', ngram_range=(k, k), dtype=np.int8)\n",
    "\n",
    "vectorizer = KmerVectorizer(k=4)\n",
    "\n",
    "# Should take less than a minute\n",
    "%time vectorizer.fit(X_train_full)"
   ]
  },
  {
   "cell_type": "code",
   "execution_count": 68,
   "metadata": {},
   "outputs": [
    {
     "data": {
      "text/plain": [
       "256"
      ]
     },
     "execution_count": 68,
     "metadata": {},
     "output_type": "execute_result"
    }
   ],
   "source": [
    "len(vectorizer.vocabulary_)"
   ]
  },
  {
   "cell_type": "code",
   "execution_count": 69,
   "metadata": {},
   "outputs": [
    {
     "name": "stdout",
     "output_type": "stream",
     "text": [
      "CPU times: user 36.2 s, sys: 1.26 s, total: 37.4 s\n",
      "Wall time: 36.7 s\n"
     ]
    }
   ],
   "source": [
    "%%time \n",
    "X_train_kmer = vectorizer.transform(X_train_frag)\n",
    "X_test_kmer = vectorizer.transform(X_test_frag)"
   ]
  },
  {
   "cell_type": "code",
   "execution_count": 70,
   "metadata": {},
   "outputs": [
    {
     "data": {
      "text/plain": [
       "<446975x256 sparse matrix of type '<type 'numpy.int8'>'\n",
       "\twith 33595968 stored elements in Compressed Sparse Row format>"
      ]
     },
     "execution_count": 70,
     "metadata": {},
     "output_type": "execute_result"
    }
   ],
   "source": [
    "X_train_kmer"
   ]
  },
  {
   "cell_type": "markdown",
   "metadata": {},
   "source": [
    "### 2. b) Learning a linear classifier\n",
    "\n",
    "#### Training"
   ]
  },
  {
   "cell_type": "code",
   "execution_count": 71,
   "metadata": {},
   "outputs": [
    {
     "name": "stdout",
     "output_type": "stream",
     "text": [
      "CPU times: user 4min 4s, sys: 1.17 s, total: 4min 5s\n",
      "Wall time: 4min 7s\n"
     ]
    },
    {
     "data": {
      "text/plain": [
       "LogisticRegression(C=1.0, class_weight=None, dual=False, fit_intercept=True,\n",
       "          intercept_scaling=1, max_iter=100, multi_class='ovr', n_jobs=1,\n",
       "          penalty='l2', random_state=None, solver='liblinear', tol=0.0001,\n",
       "          verbose=0, warm_start=False)"
      ]
     },
     "execution_count": 71,
     "metadata": {},
     "output_type": "execute_result"
    }
   ],
   "source": [
    "from sklearn.linear_model import LogisticRegression\n",
    "\n",
    "logreg = LogisticRegression()\n",
    "\n",
    "%time logreg.fit(X_train_kmer, y_train_frag)"
   ]
  },
  {
   "cell_type": "markdown",
   "metadata": {},
   "source": [
    "#### Evaluation\n",
    "\n",
    "As an example evaluation metric, the average species-level precision and recall are used below."
   ]
  },
  {
   "cell_type": "code",
   "execution_count": 72,
   "metadata": {},
   "outputs": [],
   "source": [
    "from sklearn.metrics import accuracy_score\n",
    "\n",
    "def precision_recall(y_pred, y_true):\n",
    "    rec_per_species = [accuracy_score(y_pred[y_true==k], y_true[y_true==k])\n",
    "                               for k in np.unique(y_true)]\n",
    "    rec = np.mean(rec_per_species)\n",
    "    acc_per_species = [accuracy_score(y_pred[y_pred==k], y_true[y_pred==k])\n",
    "                       for k in np.unique(y_true) if (y_pred==k).any()]\n",
    "    prec = np.mean(acc_per_species)\n",
    "    \n",
    "    print('''Recall: {:.2%}  Precision: {:.2%}'''.format(rec, prec))"
   ]
  },
  {
   "cell_type": "code",
   "execution_count": 73,
   "metadata": {},
   "outputs": [
    {
     "name": "stdout",
     "output_type": "stream",
     "text": [
      "CPU times: user 7.27 ms, sys: 3.22 ms, total: 10.5 ms\n",
      "Wall time: 8.12 ms\n",
      "----------------------\n",
      "Validation performance\n",
      "Recall: 51.57%  Precision: 54.95%\n"
     ]
    }
   ],
   "source": [
    "%time y_pred = logreg.predict(X_test_kmer)\n",
    "print('----------------------')\n",
    "print('Validation performance')\n",
    "precision_recall(y_pred, y_test)"
   ]
  },
  {
   "cell_type": "code",
   "execution_count": 26,
   "metadata": {},
   "outputs": [
    {
     "data": {
      "image/png": "[encoded data removed]",
      "text/plain": [
       "<matplotlib.figure.Figure at 0x11063a950>"
      ]
     },
     "metadata": {},
     "output_type": "display_data"
    }
   ],
   "source": [
    "import seaborn as sn\n",
    "import pandas as pd\n",
    "import matplotlib.pyplot as plt\n",
    "from sklearn.metrics import confusion_matrix\n",
    "\n",
    "def plot_confusion(y_pred, y_test):\n",
    "    plt.figure(figsize = (10,7))\n",
    "    sn.heatmap(confusion_matrix(y_pred, y_test), annot=True, fmt='d')\n",
    "    plt.show()\n",
    "    \n",
    "plot_confusion(y_pred, y_test)"
   ]
  },
  {
   "cell_type": "markdown",
   "metadata": {},
   "source": [
    "### 2. c) Going further\n",
    "\n",
    "Default values of $k$ are small ($k \\in [3, 6] $) to keep training times and memory footprints manageable. Optimal performance is obtained for greater values ($k \\geq 12$), which are discouraged in this setting.\n",
    "\n",
    "Feel free to vary values of coverage, k-mer length, as well as parameters of the `LogisticRegression`, or even trying other models altogether."
   ]
  },
  {
   "cell_type": "code",
   "execution_count": null,
   "metadata": {
    "collapsed": true
   },
   "outputs": [],
   "source": []
  },
  {
   "cell_type": "markdown",
   "metadata": {},
   "source": [
    "## 3. Convolutional neural networks (CNN)\n",
    "\n",
    "In the past few years, \"deep\" learning methods have been applied with some success to problems in genomics.\n",
    "\n",
    "As CNNs have enjoyed great success in NLP problems, we try them out here."
   ]
  },
  {
   "cell_type": "markdown",
   "metadata": {},
   "source": [
    "### 3. a) Preprocessing\n",
    "\n",
    "#### Vectorizing the input\n",
    "\n",
    "`tensorflow` and `keras` only accept vectors of floats inputs, so the text sequences must be translated to vectors. We do so by one hot encoding on both the input sequences and the labels."
   ]
  },
  {
   "cell_type": "code",
   "execution_count": 27,
   "metadata": {},
   "outputs": [],
   "source": [
    "from sklearn.preprocessing import LabelBinarizer\n",
    "\n",
    "label_binarizer = LabelBinarizer()\n",
    "y_train_binary = label_binarizer.fit_transform(y_train_full)\n",
    "y_test_binary = label_binarizer.transform(y_test)"
   ]
  },
  {
   "cell_type": "code",
   "execution_count": 28,
   "metadata": {},
   "outputs": [],
   "source": [
    "def seq2img(s):\n",
    "    '''\n",
    "    Transforms a sequence of n letters ACGT to a n*4 binary vector\n",
    "    Discards letters that are not ACGT\n",
    "    '''\n",
    "    s = re.sub('[^ACGT]', '', s)\n",
    "    base2int = {'A': 0, 'C': 1, 'G': 2, 'T': 3}\n",
    "    img = np.zeros((len(s), 4), dtype=bool)\n",
    "    non_acgt_count = 0\n",
    "    for i, a in enumerate(s):\n",
    "        img[i, base2int[a]] = True\n",
    "    return img\n",
    "\n",
    "X_train_binary = [seq2img(seq) for seq in X_train_full]\n",
    "X_test_binary = [seq2img(seq) for seq in X_test_frag]"
   ]
  },
  {
   "cell_type": "markdown",
   "metadata": {},
   "source": [
    "#### Generating fragments\n",
    "Instead of first generating fragments and then training a model, as we did for the scikit-learn models, we can make use of `keras`'s `fit_generator` function to generate fragments on the fly while training. This is much more memory-efficient.  "
   ]
  },
  {
   "cell_type": "code",
   "execution_count": 29,
   "metadata": {
    "collapsed": true
   },
   "outputs": [],
   "source": [
    "def frag_generator(X, y, frag_length=100, batch_size=1):\n",
    "    '''\n",
    "    Generates batches of randomly drawn fragments from the sequences `X`\n",
    "    \n",
    "    Attributes\n",
    "    ----------\n",
    "    X: list (nsamples)\n",
    "        Sequences from which to extract fragments\n",
    "    y: array (nsamples, nlabels)\n",
    "        Sequence labels\n",
    "    length: int\n",
    "        Length of the extracted fragments\n",
    "    batch_size: int\n",
    "        Number of fragments yielded\n",
    "    '''\n",
    "    seq_lengths = [seq.shape[0] for seq in X]\n",
    "    n_samples = len(X)\n",
    "    n_labels = y.shape[1]\n",
    "\n",
    "    # p are the probabilities for each sequence to be chosen\n",
    "    p = np.array(seq_lengths).astype('float')\n",
    "    p /= p.sum()\n",
    "    while True:\n",
    "        X_batch = np.zeros((batch_size, frag_length, 4))\n",
    "        y_batch = np.zeros((batch_size, n_labels))\n",
    "\n",
    "        # Choose sequences such that coverage is uniform\n",
    "        seq_indices = np.random.choice(range(n_samples), batch_size, p=p)\n",
    "\n",
    "        for i, seq_ix in enumerate(seq_indices):\n",
    "            # Choose random position in the sequence\n",
    "            pos = np.random.randint(seq_lengths[seq_ix] - frag_length)\n",
    "            X_batch[i, :, :] = X[seq_ix][pos:pos + frag_length]\n",
    "            y_batch[i] = y[seq_ix]\n",
    "\n",
    "        yield X_batch, y_batch"
   ]
  },
  {
   "cell_type": "code",
   "execution_count": 31,
   "metadata": {
    "collapsed": true
   },
   "outputs": [],
   "source": [
    "# Data parameters\n",
    "n_species = y_train_binary.shape[1]\n",
    "frag_length = 100"
   ]
  },
  {
   "cell_type": "markdown",
   "metadata": {},
   "source": [
    "### 3. b) Defining and training the model"
   ]
  },
  {
   "cell_type": "code",
   "execution_count": 30,
   "metadata": {
    "collapsed": true
   },
   "outputs": [],
   "source": [
    "def fit(model, X, y,\n",
    "        model_name='default_model',\n",
    "        frag_length=100,\n",
    "        batch_size=32,\n",
    "        coverage=1,\n",
    "        epochs=10):\n",
    "    '''\n",
    "    Fits `model` and saves and best weights\n",
    "    '''\n",
    "    filepath = \"models/{}.h5\".format(model_name)\n",
    "    \n",
    "    total_length = sum(len(seq) for seq in X)\n",
    "    steps_per_epoch = (coverage * total_length) // (batch_size * frag_length * epochs)\n",
    "    \n",
    "    # Saves model weights at the end of the epoch if train accuracy is better\n",
    "    checkpoint = ModelCheckpoint(filepath, monitor='acc', verbose=1,\n",
    "                                 save_best_only=True, mode='max')\n",
    "\n",
    "    history_callback = model.fit_generator(\n",
    "        generator=frag_generator(X, y, batch_size=batch_size, frag_length=frag_length),\n",
    "        workers=4, use_multiprocessing=True,\n",
    "        callbacks=[checkpoint],\n",
    "        steps_per_epoch=steps_per_epoch, epochs=epochs\n",
    "        )\n",
    "    loss_history = history_callback.history[\"loss\"]\n",
    "    return loss_history"
   ]
  },
  {
   "cell_type": "code",
   "execution_count": 41,
   "metadata": {},
   "outputs": [
    {
     "name": "stdout",
     "output_type": "stream",
     "text": [
      "1994\n"
     ]
    }
   ],
   "source": [
    "# Silence tensorflow warnings\n",
    "import os\n",
    "os.environ['TF_CPP_MIN_LOG_LEVEL'] = '2'\n",
    "\n",
    "from keras.models import Sequential\n",
    "from keras.callbacks import ModelCheckpoint\n",
    "from keras.layers import Conv1D, GlobalAveragePooling1D, MaxPooling1D\n",
    "from keras.layers import Dense, Flatten\n",
    "from keras.layers.normalization import BatchNormalization\n",
    "\n",
    "# ----------------------------------\n",
    "# Define model\n",
    "# ----------------------------------\n",
    "\n",
    "# If set to False, freeze convolution weights,\n",
    "# or keep them as initialized\n",
    "retrain_conv = True\n",
    "\n",
    "model = Sequential()\n",
    "n_filters = 64\n",
    "filter_size = 5\n",
    "\n",
    "layers = [\n",
    "    Conv1D(n_filters, filter_size, padding='same', activation='relu',\n",
    "           trainable=retrain_conv, name='conv_1', input_shape=(frag_length, 4)),\n",
    "    # MaxPooling1D(pool_size=2, name='maxp_1'),\n",
    "    # Conv1D(n_filters*2, filter_size, padding='same', activation='relu',\n",
    "    #       trainable=retrain_conv, name='conv_2'),\n",
    "    # BatchNormalization(),\n",
    "    GlobalAveragePooling1D(),\n",
    "    Dense(n_species, activation='softmax'),\n",
    "    ]\n",
    "    \n",
    "for l in layers:\n",
    "    model.add(l)\n",
    "    \n",
    "model.compile(loss='categorical_crossentropy',\n",
    "              optimizer='adam',\n",
    "              metrics=['accuracy'])\n",
    "print model.count_params()"
   ]
  },
  {
   "cell_type": "code",
   "execution_count": 44,
   "metadata": {},
   "outputs": [
    {
     "name": "stdout",
     "output_type": "stream",
     "text": [
      "Epoch 1/5\n",
      "2790/2793 [============================>.] - ETA: 0s - loss: 1.3268 - acc: 0.5030Epoch 00000: acc improved from -inf to 0.50302, saving model to models/default_model.h5\n",
      "2793/2793 [==============================] - 13s - loss: 1.3269 - acc: 0.5030    \n",
      "Epoch 2/5\n",
      "2787/2793 [============================>.] - ETA: 0s - loss: 1.3023 - acc: 0.5106Epoch 00001: acc improved from 0.50302 to 0.51067, saving model to models/default_model.h5\n",
      "2793/2793 [==============================] - 13s - loss: 1.3023 - acc: 0.5107    \n",
      "Epoch 3/5\n",
      "2783/2793 [============================>.] - ETA: 0s - loss: 1.2806 - acc: 0.5190Epoch 00002: acc improved from 0.51067 to 0.51905, saving model to models/default_model.h5\n",
      "2793/2793 [==============================] - 15s - loss: 1.2806 - acc: 0.5191    \n",
      "Epoch 4/5\n",
      "2787/2793 [============================>.] - ETA: 0s - loss: 1.2620 - acc: 0.5268Epoch 00003: acc improved from 0.51905 to 0.52669, saving model to models/default_model.h5\n",
      "2793/2793 [==============================] - 15s - loss: 1.2622 - acc: 0.5267    \n",
      "Epoch 5/5\n",
      "2792/2793 [============================>.] - ETA: 0s - loss: 1.2541 - acc: 0.5290Epoch 00004: acc improved from 0.52669 to 0.52900, saving model to models/default_model.h5\n",
      "2793/2793 [==============================] - 14s - loss: 1.2541 - acc: 0.5290    \n"
     ]
    }
   ],
   "source": [
    "loss_history = fit(model, X_train_binary, y_train_binary, coverage=1, epochs=5)"
   ]
  },
  {
   "cell_type": "code",
   "execution_count": 46,
   "metadata": {},
   "outputs": [
    {
     "name": "stdout",
     "output_type": "stream",
     "text": [
      "CPU times: user 801 ms, sys: 63.5 ms, total: 865 ms\n",
      "Wall time: 381 ms\n",
      "----------------------\n",
      "Validation performance\n",
      "Recall: 44.92%  Precision: 49.20%\n"
     ]
    }
   ],
   "source": [
    "%time y_pred = model.predict(np.array(X_test_binary))\n",
    "y_pred = label_binarizer.inverse_transform(y_pred)\n",
    "print('----------------------')\n",
    "print('Validation performance')\n",
    "precision_recall(y_pred, y_test)"
   ]
  },
  {
   "cell_type": "code",
   "execution_count": 40,
   "metadata": {},
   "outputs": [
    {
     "data": {
      "image/png": "[encoded data removed]",
      "text/plain": [
       "<matplotlib.figure.Figure at 0x109539410>"
      ]
     },
     "metadata": {},
     "output_type": "display_data"
    }
   ],
   "source": [
    "plot_confusion(y_pred, y_test)"
   ]
  },
  {
   "cell_type": "markdown",
   "metadata": {},
   "source": [
    "### 2. c) Going further\n",
    "\n",
    "Try changing filter sizes, number of filters or adding/changing layers."
   ]
  },
  {
   "cell_type": "code",
   "execution_count": 283,
   "metadata": {},
   "outputs": [
    {
     "name": "stdout",
     "output_type": "stream",
     "text": [
      "CPU times: user 3min 55s, sys: 5.82 s, total: 4min 1s\n",
      "Wall time: 1min 13s\n"
     ]
    }
   ],
   "source": []
  },
  {
   "cell_type": "markdown",
   "metadata": {},
   "source": [
    "## Recurrent neural networks\n",
    "\n",
    "Implement a simple RNN to try and match previous performances."
   ]
  },
  {
   "cell_type": "code",
   "execution_count": 47,
   "metadata": {
    "collapsed": true
   },
   "outputs": [],
   "source": [
    "from keras.layers import LSTM\n",
    "\n",
    "\n",
    "\n"
   ]
  }
 ],
 "metadata": {
  "kernelspec": {
   "display_name": "Python 2",
   "language": "python",
   "name": "python2"
  },
  "language_info": {
   "codemirror_mode": {
    "name": "ipython",
    "version": 2
   },
   "file_extension": ".py",
   "mimetype": "text/x-python",
   "name": "python",
   "nbconvert_exporter": "python",
   "pygments_lexer": "ipython2",
   "version": "2.7.14"
  }
 },
 "nbformat": 4,
 "nbformat_minor": 2
}
